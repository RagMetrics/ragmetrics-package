{
 "cells": [
  {
   "cell_type": "code",
   "execution_count": 3,
   "metadata": {},
   "outputs": [
    {
     "data": {
      "text/plain": [
       "<module 'ragmetrics' from '/home/alonb/ragmetrics-app/env/lib/python3.11/site-packages/ragmetrics/__init__.py'>"
      ]
     },
     "execution_count": 3,
     "metadata": {},
     "output_type": "execute_result"
    }
   ],
   "source": [
    "import ragmetrics\n",
    "from openai import OpenAI\n",
    "\n",
    "ragmetrics.login(key=\"ce970917d2502e3b2798fd9db00860536a394fe2\", off=False)\n",
    "client = OpenAI()\n",
    "\n",
    "# Start monitoring all LLM calls from this client\n",
    "ragmetrics.monitor(client, context={\"user\": True})\n",
    "\n",
    "# Use regular OpenAI API calls with an extra optional metadata parameter\n",
    "chat_completion = client.chat.completions.create(\n",
    "  model=\"gpt-4o\", \n",
    "  messages=[{\"role\": \"user\", \"content\": \"Hello Ragmetrics 123\"}],\n",
    "  metadata={\"pipelineStep\":\"generation\", \"property1\":\"Accuracy and Clarity\"},\n",
    "  comparison_model=\"gpt-4-turbo\"\n",
    ")"
   ]
  }
 ],
 "metadata": {
  "kernelspec": {
   "display_name": "env",
   "language": "python",
   "name": "python3"
  },
  "language_info": {
   "codemirror_mode": {
    "name": "ipython",
    "version": 3
   },
   "file_extension": ".py",
   "mimetype": "text/x-python",
   "name": "python",
   "nbconvert_exporter": "python",
   "pygments_lexer": "ipython3",
   "version": "3.10.12"
  }
 },
 "nbformat": 4,
 "nbformat_minor": 2
}
